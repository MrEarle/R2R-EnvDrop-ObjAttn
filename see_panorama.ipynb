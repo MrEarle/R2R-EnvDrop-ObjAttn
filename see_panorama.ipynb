{
 "cells": [
  {
   "cell_type": "code",
   "execution_count": null,
   "metadata": {},
   "outputs": [],
   "source": [
    "%cd /home/mrearle/repos/R2R-EnvDrop-ObjAttn/"
   ]
  },
  {
   "cell_type": "code",
   "execution_count": null,
   "metadata": {},
   "outputs": [],
   "source": [
    "import sys\n",
    "import torch\n",
    "import networkx as nx\n",
    "\n",
    "metadata_parser_path = '/home/mrearle/repos/R2R-EnvDrop-ObjAttn/metadata_parser'\n",
    "if metadata_parser_path not in sys.path:\n",
    "    sys.path.append(metadata_parser_path)\n",
    "\n",
    "mattersim_path = '/home/mrearle/datasets/Matterport3DSimulator/build'\n",
    "if mattersim_path not in sys.path:\n",
    "    sys.path.append(mattersim_path)\n",
    "    \n",
    "src_path = '/home/mrearle/repos/R2R-EnvDrop-ObjAttn/r2r_src'\n",
    "if src_path not in sys.path:\n",
    "    sys.path.append(src_path)\n",
    "\n",
    "import numpy as np\n",
    "import MatterSim\n",
    "import matplotlib.pyplot as plt\n",
    "from typing import List, Tuple"
   ]
  },
  {
   "cell_type": "code",
   "execution_count": null,
   "metadata": {},
   "outputs": [],
   "source": [
    "def visualize_panorama_img(scan, viewpoint, heading, elevation):\n",
    "    WIDTH = 80\n",
    "    HEIGHT = 480\n",
    "    pano_img = np.zeros((HEIGHT, WIDTH * 36, 3), np.uint8)\n",
    "    VFOV = np.radians(55)\n",
    "    sim = MatterSim.Simulator()\n",
    "    sim.setCameraResolution(WIDTH, HEIGHT)\n",
    "    sim.setCameraVFOV(VFOV)\n",
    "    sim.initialize()\n",
    "    for n_angle, angle in enumerate(range(-175, 180, 10)):\n",
    "        sim.newEpisode([scan], [viewpoint], [heading + np.radians(angle)], [elevation])\n",
    "        state = sim.getState()\n",
    "        im = state[0].rgb\n",
    "        im = np.array(im)\n",
    "        pano_img[:, WIDTH * n_angle : WIDTH * (n_angle + 1), :] = im[..., ::-1]\n",
    "    return pano_img"
   ]
  },
  {
   "cell_type": "code",
   "execution_count": null,
   "metadata": {},
   "outputs": [],
   "source": [
    "def save_panoarams(scan: str, viewpoints: List[Tuple[str, float, float]]):\n",
    "    for viewpoint in viewpoints:\n",
    "        pano_img = visualize_panorama_img(scan, viewpoint[0], viewpoint[1], viewpoint[2])\n",
    "        plt.imsave(f\"{scan}_{viewpoint[0]}_{viewpoint[1]}_{viewpoint[2]}.png\", pano_img)"
   ]
  },
  {
   "cell_type": "code",
   "execution_count": null,
   "metadata": {},
   "outputs": [],
   "source": [
    "obj_traj = [\n",
    "    ['987fd31155514f6facb131bd5c14881d', 0.0, 0.0],\n",
    "    ['ace68ede9cfe44d3842cfe5d937cfa36', 0.0, 0.0],\n",
    "    ['cd608227f6c94b91af3db8bf6cd28abd', 0.0, 0.0],\n",
    "    ['0e0c08b705704f80b5f31c2bd3a40583', 0.0, 0.0],\n",
    "    ['0e0c08b705704f80b5f31c2bd3a40583', 4.71238898038469, 0.0],\n",
    "    ['e40ff9839f0b4a35a25e9dc16d391ae4', 4.71238898038469, 0.0],\n",
    "    ['e40ff9839f0b4a35a25e9dc16d391ae4', 3.141592653589793, 0.0],\n",
    "    ['e739cfd915d642b4bd23743e15d1480b', 3.141592653589793, 0.0],\n",
    "    ['e739cfd915d642b4bd23743e15d1480b', 4.71238898038469, 0.0],\n",
    "    ['c0e590504b61489fba3e0c2a12664a26', 4.71238898038469, 0.0]\n",
    " ]\n",
    "\n",
    "base_traj = [\n",
    "    ['987fd31155514f6facb131bd5c14881d', 0.0, 0.0],\n",
    "    ['ace68ede9cfe44d3842cfe5d937cfa36', 0.0, 0.0],\n",
    "    ['cd608227f6c94b91af3db8bf6cd28abd', 0.0, 0.0],\n",
    "    ['0e0c08b705704f80b5f31c2bd3a40583', 0.0, 0.0],\n",
    "    ['0e0c08b705704f80b5f31c2bd3a40583', 5.759586531581287, 0.0],\n",
    "    ['f03d055128104fd486151e54c9e4a32a', 5.759586531581287, 0.0],\n",
    "    ['f03d055128104fd486151e54c9e4a32a', 1.0471975511965976, 0.0],\n",
    "    ['e9ae19c83e6243dd81b7213ba5f8c329', 1.0471975511965976, 0.0],\n",
    "    ['e9ae19c83e6243dd81b7213ba5f8c329', 3.665191429188092, 0.0],\n",
    "    ['e40ff9839f0b4a35a25e9dc16d391ae4', 3.665191429188092, 0.0]\n",
    " ]"
   ]
  }
 ],
 "metadata": {
  "language_info": {
   "name": "python"
  },
  "orig_nbformat": 4
 },
 "nbformat": 4,
 "nbformat_minor": 2
}
