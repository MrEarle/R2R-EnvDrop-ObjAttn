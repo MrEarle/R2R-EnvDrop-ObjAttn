{
 "cells": [
  {
   "cell_type": "code",
   "execution_count": 17,
   "metadata": {},
   "outputs": [
    {
     "name": "stdout",
     "output_type": "stream",
     "text": [
      "/mnt-homes/kraken/mrearle/repos/R2R-EnvDrop-ObjAttn\n"
     ]
    }
   ],
   "source": [
    "%cd /home/mrearle/repos/R2R-EnvDrop-ObjAttn/"
   ]
  },
  {
   "cell_type": "markdown",
   "metadata": {},
   "source": [
    "# Imports"
   ]
  },
  {
   "cell_type": "code",
   "execution_count": 18,
   "metadata": {},
   "outputs": [],
   "source": [
    "import sys\n",
    "import torch\n",
    "\n",
    "metadata_parser_path = '/home/mrearle/repos/R2R-EnvDrop-ObjAttn/metadata_parser'\n",
    "if metadata_parser_path not in sys.path:\n",
    "    sys.path.append(metadata_parser_path)\n",
    "\n",
    "mattersim_path = '/home/mrearle/datasets/Matterport3DSimulator/build'\n",
    "if mattersim_path not in sys.path:\n",
    "    sys.path.append(mattersim_path)\n",
    "    \n",
    "src_path = '/home/mrearle/repos/R2R-EnvDrop-ObjAttn/r2r_src'\n",
    "if src_path not in sys.path:\n",
    "    sys.path.append(src_path)\n"
   ]
  },
  {
   "cell_type": "code",
   "execution_count": 19,
   "metadata": {},
   "outputs": [],
   "source": [
    "from parse_house_segmentations import HouseSegmentationFile"
   ]
  },
  {
   "cell_type": "markdown",
   "metadata": {},
   "source": [
    "# Parameters"
   ]
  },
  {
   "cell_type": "code",
   "execution_count": 20,
   "metadata": {},
   "outputs": [],
   "source": [
    "from param import args"
   ]
  },
  {
   "cell_type": "code",
   "execution_count": 21,
   "metadata": {},
   "outputs": [],
   "source": [
    "# Model args\n",
    "args.name = 'agent_bt_val'\n",
    "args.attn = 'soft'\n",
    "args.train = 'validlistener'\n",
    "args.angle_feat_size = 128\n",
    "args.accumulateGrad = True\n",
    "args.featdropout = 0.4\n",
    "args.subout = 'max'\n",
    "args.optim = 'rms'\n",
    "args.lr = 1e-4\n",
    "args.iters = 10\n",
    "args.maxAction = 35\n",
    "\n",
    "# Obj attn args\n",
    "base = False\n",
    "args.obj_attn_type = \"connection\"\n",
    "args.max_obj_number = 32\n",
    "args.obj_aux_task = not base\n",
    "args.obj_aux_task_weight = 0.1\n",
    "args.dataset = \"R2R\"\n",
    "args.include_objs = not base\n",
    "args.include_objs_lstm = False\n",
    "args.reduced_envs = True\n",
    "args.buffer_objs = False"
   ]
  },
  {
   "cell_type": "markdown",
   "metadata": {},
   "source": [
    "# Setup Agent"
   ]
  },
  {
   "cell_type": "markdown",
   "metadata": {},
   "source": [
    "## Imports"
   ]
  },
  {
   "cell_type": "code",
   "execution_count": 22,
   "metadata": {},
   "outputs": [],
   "source": [
    "from agent import Seq2SeqAgent\n",
    "from collections import defaultdict\n",
    "import json\n",
    "import numpy as np\n",
    "import h5py\n",
    "from collections import OrderedDict\n",
    "from train import setup, read_vocab, Tokenizer, TRAIN_VOCAB, read_img_features, R2RBatch, Evaluation\n",
    "\n",
    "log_dir = args.log_dir\n",
    "FEATURE_FILE = \"/home/mrearle/storage/img_features/ResNet-152-imagenet.hdf5\""
   ]
  },
  {
   "cell_type": "markdown",
   "metadata": {},
   "source": [
    "## Environments"
   ]
  },
  {
   "cell_type": "code",
   "execution_count": 23,
   "metadata": {},
   "outputs": [
    {
     "name": "stdout",
     "output_type": "stream",
     "text": [
      "W2I is defaultdict True\n",
      "OLD_VOCAB_SIZE 991\n",
      "VOCAB_SIZE 992\n",
      "VOACB 991\n",
      "The feature size is 2048\n",
      "Loading navigation graphs for 21 scans\n",
      "R2RBatch loaded with 4895 instructions, using splits: train\n",
      "The feature size is 2048\n",
      "Loading navigation graphs for 11 scans\n",
      "R2RBatch loaded with 2349 instructions, using splits: val_unseen\n"
     ]
    }
   ],
   "source": [
    "setup()\n",
    "\n",
    "vocab = read_vocab(TRAIN_VOCAB)\n",
    "tok = Tokenizer(vocab=vocab, encoding_length=args.maxInput)\n",
    "\n",
    "feat_h5 = h5py.File(FEATURE_FILE, \"r\")\n",
    "obj_feat_h5 = h5py.File(args.OBJECT_FEATURES, \"r\")\n",
    "\n",
    "featurized_scans = set(feat_h5.keys())\n",
    "\n",
    "train_env = R2RBatch(\n",
    "    feature_store=feat_h5, object_feat_store=obj_feat_h5, batch_size=args.batchSize, splits=[\"train\"], tokenizer=tok\n",
    ")\n",
    "\n",
    "val_env_names = [\"val_unseen\"]\n",
    "\n",
    "val_envs = OrderedDict(\n",
    "        (\n",
    "            (\n",
    "                split,\n",
    "                (\n",
    "                    R2RBatch(\n",
    "                        feature_store=feat_h5,\n",
    "                        object_feat_store=obj_feat_h5,\n",
    "                        batch_size=args.batchSize,\n",
    "                        splits=[split],\n",
    "                        tokenizer=tok,\n",
    "                    ),\n",
    "                    Evaluation([split], featurized_scans, tok),\n",
    "                ),\n",
    "            )\n",
    "            for split in val_env_names\n",
    "        )\n",
    "    )"
   ]
  },
  {
   "cell_type": "markdown",
   "metadata": {},
   "source": [
    "## Setup Agent"
   ]
  },
  {
   "cell_type": "code",
   "execution_count": 24,
   "metadata": {},
   "outputs": [
    {
     "name": "stdout",
     "output_type": "stream",
     "text": [
      "Using Bidir in EncoderLSTM\n",
      "ObjAttention: Using class ConnectionwiseObjectAttention\n",
      "Listener: Done Instantiating Model. Initializing Optimizers\n",
      "Listener: Done Instantiating Optimizers. Initializing Loss\n",
      "Listener: Done Instantiating Loss. Initializing Logs\n",
      "Listener: Flushed\n",
      "Listener: Done Instantiating Logs. Listener Initialized\n",
      "Loaded the listener model at iter 82500 from snap/agent-obj(32)-aux(0.1)-reduced/state_dict/best_val_unseen\n"
     ]
    }
   ],
   "source": [
    "agent = Seq2SeqAgent(train_env, \"\", tok, args.maxAction)\n",
    "\n",
    "agent_name = 'agent-obj(32)-aux(0.1)-reduced'\n",
    "\n",
    "args.load = f'snap/{agent_name}/state_dict/best_val_unseen'\n",
    "agent.results_path = f'results/{agent_name}.json'\n",
    "print(\n",
    "    \"Loaded the listener model at iter %d from %s\"\n",
    "    % (agent.load(args.load), args.load),\n",
    "    flush=True,\n",
    ")"
   ]
  },
  {
   "cell_type": "code",
   "execution_count": 25,
   "metadata": {},
   "outputs": [],
   "source": [
    "for env_name, (env, evaluator) in val_envs.items():\n",
    "    agent.logs = defaultdict(list)\n",
    "    agent.env = env\n",
    "\n",
    "    iters = None\n",
    "    agent.test(use_dropout=False, feedback=\"argmax\", iters=iters)\n",
    "agent_result = agent.write_results()\n",
    "\n"
   ]
  },
  {
   "cell_type": "markdown",
   "metadata": {},
   "source": [
    "# Compare trajectory data"
   ]
  },
  {
   "cell_type": "code",
   "execution_count": 26,
   "metadata": {},
   "outputs": [],
   "source": [
    "import json"
   ]
  },
  {
   "cell_type": "code",
   "execution_count": 27,
   "metadata": {},
   "outputs": [],
   "source": [
    "ground_truth_path = 'tasks/R2R/data/R2R_val_unseen.json'\n",
    "base_agent_path = 'results/agent_base-reduced.json'\n",
    "obj_agent_path = 'results/agent-obj(32)-aux(0.1)-reduced.json'"
   ]
  },
  {
   "cell_type": "code",
   "execution_count": 31,
   "metadata": {},
   "outputs": [],
   "source": [
    "with open(ground_truth_path) as f:\n",
    "    ground_truth = json.load(f)\n",
    "ground_truth = {v['path_id']: v['path'] for v in ground_truth}\n",
    "\n",
    "with open(base_agent_path) as f:\n",
    "    base_agent = json.load(f)\n",
    "base_agent = {v['instr_id']: v['trajectory'] for v in base_agent}\n",
    "\n",
    "with open(obj_agent_path) as f:\n",
    "    obj_agent = json.load(f)\n",
    "obj_agent = {v['instr_id']: v['trajectory'] for v in obj_agent}"
   ]
  },
  {
   "cell_type": "code",
   "execution_count": 41,
   "metadata": {},
   "outputs": [],
   "source": [
    "succ_cases = []\n",
    "fail_cases = []\n",
    "both_succs = []\n",
    "both_fails = []\n",
    "for instr_id in base_agent:\n",
    "    path_id, _ = instr_id.split('_')\n",
    "\n",
    "    base_agent_success = base_agent[instr_id][-1][0] == ground_truth[int(path_id)][-1]\n",
    "    obj_agent_success = obj_agent[instr_id][-1][0] == ground_truth[int(path_id)][-1]\n",
    "\n",
    "    if not base_agent_success and obj_agent_success:\n",
    "        succ_cases.append(instr_id)\n",
    "    elif not obj_agent_success and base_agent_success:\n",
    "        fail_cases.append(instr_id)\n",
    "    elif base_agent_success and obj_agent_success:\n",
    "        both_succs.append(instr_id)\n",
    "    elif not base_agent_success and not obj_agent_success:\n",
    "        both_fails.append(instr_id)"
   ]
  },
  {
   "cell_type": "code",
   "execution_count": 42,
   "metadata": {},
   "outputs": [
    {
     "data": {
      "text/plain": [
       "(90, 79, 49, 2131)"
      ]
     },
     "execution_count": 42,
     "metadata": {},
     "output_type": "execute_result"
    }
   ],
   "source": [
    "len(succ_cases), len(fail_cases), len(both_succs), len(both_fails)"
   ]
  },
  {
   "cell_type": "code",
   "execution_count": 47,
   "metadata": {},
   "outputs": [
    {
     "data": {
      "text/plain": [
       "'5148_1'"
      ]
     },
     "execution_count": 47,
     "metadata": {},
     "output_type": "execute_result"
    }
   ],
   "source": [
    "succ_cases[0]"
   ]
  },
  {
   "cell_type": "code",
   "execution_count": null,
   "metadata": {},
   "outputs": [],
   "source": []
  }
 ],
 "metadata": {
  "interpreter": {
   "hash": "3c64bab987688411ecf7daeb0d26ce66b9c22149654c3c666032ea50efbbbd43"
  },
  "kernelspec": {
   "display_name": "Python 3.6.8 ('r2r')",
   "language": "python",
   "name": "python3"
  },
  "language_info": {
   "codemirror_mode": {
    "name": "ipython",
    "version": 3
   },
   "file_extension": ".py",
   "mimetype": "text/x-python",
   "name": "python",
   "nbconvert_exporter": "python",
   "pygments_lexer": "ipython3",
   "version": "3.6.8"
  },
  "orig_nbformat": 4
 },
 "nbformat": 4,
 "nbformat_minor": 2
}
